{
 "cells": [
  {
   "cell_type": "markdown",
   "id": "0726a269-ac25-4062-8968-3a148a9c50a6",
   "metadata": {},
   "source": [
    "# **Diagnóstico Automatizado de Linfomas Malignos en Biopsias H&E mediante Aprendizaje Automático**\n",
    "## *Aftab Ahmed Choudhry*"
   ]
  },
  {
   "cell_type": "code",
   "execution_count": 1,
   "id": "df3f7146-9352-49fd-a642-05ea72740dc7",
   "metadata": {},
   "outputs": [],
   "source": [
    "from PIL import Image\n",
    "import os\n",
    "import glob\n",
    "import tensorflow as tf\n",
    "import pandas as pd\n",
    "import numpy as np\n",
    "import matplotlib.pyplot as plt\n",
    "from sklearn.model_selection import train_test_split\n",
    "from tensorflow.keras import layers\n",
    "from tensorflow.keras.applications import InceptionV3\n",
    "from tensorflow.keras import Model\n",
    "from tensorflow.keras.layers import Input, GlobalAveragePooling2D, Dense\n",
    "from tensorflow.keras.optimizers import Adam\n",
    "from tensorflow.keras.callbacks import ModelCheckpoint, ReduceLROnPlateau, EarlyStopping"
   ]
  },
  {
   "cell_type": "markdown",
   "id": "c3f3e7a5-0ddf-4974-bd45-69fd3a87b8de",
   "metadata": {},
   "source": [
    "## ***Conversión Única de Imágenes .tif a .png***"
   ]
  },
  {
   "cell_type": "markdown",
   "id": "9604e547-afe7-4057-af9a-b8ade2c9f0b1",
   "metadata": {},
   "source": [
    "Esta celda se ejecuta **una sola vez** para convertir las imágenes originales descargadas desde Kaggle (en formato `.tif`) al formato `.png`, ya que `image_dataset_from_directory()` de TensorFlow **no soporta `.tif`**. Tras la conversión, las imágenes `.tif` se eliminan automáticamente."
   ]
  },
  {
   "cell_type": "code",
   "execution_count": 2,
   "id": "91552266-4d6c-4e19-b67e-5591f71ebd55",
   "metadata": {},
   "outputs": [
    {
     "name": "stdout",
     "output_type": "stream",
     "text": [
      "Conversión ya realizada para la clase CLL. Se omite.\n",
      "Conversión ya realizada para la clase FL. Se omite.\n",
      "Conversión ya realizada para la clase MCL. Se omite.\n"
     ]
    }
   ],
   "source": [
    "base_path = './dataset'\n",
    "\n",
    "for class_name in ['CLL', 'FL', 'MCL']:\n",
    "    folder = os.path.join(base_path, class_name)\n",
    "    tif_files = glob.glob(os.path.join(folder, '*.tif'))\n",
    "    png_files = glob.glob(os.path.join(folder, '*.png'))\n",
    "\n",
    "    if len(png_files) > 0:\n",
    "        print(f\"Conversión ya realizada para la clase {class_name}. Se omite.\")\n",
    "        continue\n",
    "\n",
    "    for tif_path in tif_files:\n",
    "        with Image.open(tif_path) as img:\n",
    "            rgb_img = img.convert('RGB')\n",
    "            new_path = tif_path.replace('.tif', '.png')\n",
    "            rgb_img.save(new_path)\n",
    "\n",
    "        os.remove(tif_path)\n",
    "    \n",
    "    print(f\"Conversión completada para la clase {class_name}.\")"
   ]
  },
  {
   "cell_type": "markdown",
   "id": "e2cd8dc8-f630-45b2-bb56-e39da0997867",
   "metadata": {},
   "source": [
    "## *Verificación de disponibilidad de GPU*"
   ]
  },
  {
   "cell_type": "markdown",
   "id": "3560d506-51d3-43b3-8e9d-04255f21dedf",
   "metadata": {},
   "source": [
    "Esta celda comprueba si TensorFlow detecta una GPU en el entorno actual. Es útil para confirmar que la aceleración por hardware está activa y que se aprovechará la GPU durante el entrenamiento del modelo."
   ]
  },
  {
   "cell_type": "code",
   "execution_count": 3,
   "id": "27e74b92-d37c-4a9a-b571-1c75f56ee7b5",
   "metadata": {},
   "outputs": [
    {
     "name": "stdout",
     "output_type": "stream",
     "text": [
      "[PhysicalDevice(name='/physical_device:GPU:0', device_type='GPU')]\n",
      "WARNING:tensorflow:From C:\\Users\\aftab\\AppData\\Local\\Temp\\ipykernel_11004\\2239004823.py:2: is_gpu_available (from tensorflow.python.framework.test_util) is deprecated and will be removed in a future version.\n",
      "Instructions for updating:\n",
      "Use `tf.config.list_physical_devices('GPU')` instead.\n",
      "True\n"
     ]
    }
   ],
   "source": [
    "print(tf.config.list_physical_devices('GPU'))\n",
    "print(tf.test.is_gpu_available())"
   ]
  },
  {
   "cell_type": "markdown",
   "id": "ef215e75-aea9-4271-80b3-c016d1a414e3",
   "metadata": {},
   "source": [
    "## Preproceso"
   ]
  },
  {
   "cell_type": "markdown",
   "id": "731db220-a293-4557-bd30-52ab99cbb8d7",
   "metadata": {},
   "source": [
    "### Carga de los datos"
   ]
  },
  {
   "cell_type": "code",
   "execution_count": 4,
   "id": "46bfdd11-bf2f-4bb5-bb16-310a945377b3",
   "metadata": {},
   "outputs": [
    {
     "name": "stdout",
     "output_type": "stream",
     "text": [
      "Found 374 files belonging to 3 classes.\n",
      "Classes: ['CLL', 'FL', 'MCL']\n"
     ]
    }
   ],
   "source": [
    "dataset_path = './dataset'\n",
    "image_size = (1388, 1040)\n",
    "\n",
    "dataset = tf.keras.preprocessing.image_dataset_from_directory(\n",
    "    dataset_path,\n",
    "    image_size = image_size,\n",
    "    shuffle = True,\n",
    "    seed = 23,\n",
    ")\n",
    "\n",
    "class_names = dataset.class_names\n",
    "print(\"Classes:\", class_names)"
   ]
  },
  {
   "cell_type": "markdown",
   "id": "abf6d359-99b1-40ff-9ae5-69446b567547",
   "metadata": {},
   "source": [
    "### Visualización básica"
   ]
  },
  {
   "cell_type": "code",
   "execution_count": null,
   "id": "23ab994c-91e7-45c4-85a8-80879a1f6ea4",
   "metadata": {},
   "outputs": [],
   "source": [
    "'''\n",
    "for images, labels in dataset.take(1):\n",
    "    print(\"Image batch shape:\", images.shape)\n",
    "    print(\"Label batch shape:\", labels.shape)\n",
    "\n",
    "    plt.figure(figsize=(15, 15))\n",
    "    for i in range(9):\n",
    "        ax = plt.subplot(3, 3, i + 1)\n",
    "        plt.imshow(images[i].numpy().astype(\"uint8\"))\n",
    "        plt.title(f\"Label: {labels[i].numpy()} ({class_names[labels[i].numpy()]})\")\n",
    "        plt.axis(\"off\")"
   ]
  },
  {
   "cell_type": "markdown",
   "id": "ccccb14a-ed62-4d7c-a36e-f5b9e10f2101",
   "metadata": {},
   "source": [
    "### Partición del conjunto de datos"
   ]
  },
  {
   "cell_type": "code",
   "execution_count": 5,
   "id": "f6ab2541-f9b2-4a7a-9226-f6e07a407164",
   "metadata": {},
   "outputs": [
    {
     "data": {
      "text/plain": [
       "((299, 1388, 1040, 3), (75, 1388, 1040, 3), (299,), (75,))"
      ]
     },
     "execution_count": 5,
     "metadata": {},
     "output_type": "execute_result"
    }
   ],
   "source": [
    "X = []\n",
    "y = []\n",
    "\n",
    "for images, labels in dataset:\n",
    "    X.append(images.numpy())\n",
    "    y.append(labels.numpy())\n",
    "\n",
    "X = np.concatenate(X)\n",
    "y = np.concatenate(y)\n",
    "\n",
    "X_train, X_test, y_train, y_test = train_test_split(X, y, test_size=0.2, random_state=23, stratify=y)\n",
    "\n",
    "X_train.shape, X_test.shape, y_train.shape, y_test.shape"
   ]
  },
  {
   "cell_type": "code",
   "execution_count": 6,
   "id": "71141655-5b93-436d-9a91-ed7783f70bb0",
   "metadata": {},
   "outputs": [
    {
     "name": "stdout",
     "output_type": "stream",
     "text": [
      "Train: (269, 1388, 1040, 3) (269,)\n",
      "Validation:   (30, 1388, 1040, 3) (30,)\n",
      "Test:  (75, 1388, 1040, 3) (75,)\n"
     ]
    }
   ],
   "source": [
    "X_train, X_val, y_train, y_val = train_test_split(X_train, y_train, test_size=0.1, random_state=23, stratify=y_train)\n",
    "\n",
    "print(\"Train:\", X_train.shape, y_train.shape)\n",
    "print(\"Validation:  \", X_val.shape, y_val.shape)\n",
    "print(\"Test: \", X_test.shape, y_test.shape)"
   ]
  },
  {
   "cell_type": "code",
   "execution_count": null,
   "id": "2f50fcee-c248-4451-ae63-dd491376acca",
   "metadata": {},
   "outputs": [],
   "source": [
    "'''\n",
    "X_train_flattened = X_train.reshape(X_train.shape[0], -1)\n",
    "df_train = pd.DataFrame(X_train_flattened)\n",
    "df_train['target'] = y_train\n",
    "df_train.head()"
   ]
  },
  {
   "cell_type": "markdown",
   "id": "7ea0a239-b233-4b43-b6c8-5529453f49e7",
   "metadata": {},
   "source": [
    "Reordenaremos las columnas de manera que la variable target sea la primera"
   ]
  },
  {
   "cell_type": "code",
   "execution_count": null,
   "id": "d5f3dbe1-dedc-4d17-a382-1116dd767188",
   "metadata": {},
   "outputs": [],
   "source": [
    "'''\n",
    "cols = list(df_train.columns)\n",
    "cols.remove('target')\n",
    "cols.insert(0,'target')\n",
    "df_train = df_train.reindex(columns=cols)\n",
    "df_train.head()"
   ]
  },
  {
   "cell_type": "code",
   "execution_count": null,
   "id": "24cb39f9-200c-4382-8255-1a873555e37c",
   "metadata": {},
   "outputs": [],
   "source": [
    "#df_train.iloc[:, :1000].describe().T"
   ]
  },
  {
   "cell_type": "code",
   "execution_count": null,
   "id": "d4bf511d-94dc-4043-bfd6-4af8db08c9ff",
   "metadata": {},
   "outputs": [],
   "source": [
    "#df_train['target'].value_counts()"
   ]
  },
  {
   "cell_type": "code",
   "execution_count": 7,
   "id": "4058b40b-3833-4ce9-983c-8679a608b32a",
   "metadata": {},
   "outputs": [],
   "source": [
    "def resize_images(X):\n",
    "    resized = []\n",
    "    \n",
    "    for img in X:\n",
    "        img_resized = tf.image.resize(img, (299, 299))\n",
    "        resized.append(img_resized.numpy())\n",
    "        \n",
    "    return np.array(resized)"
   ]
  },
  {
   "cell_type": "code",
   "execution_count": 8,
   "id": "5572b3f2-85cb-4519-8e0b-f4bff2d457a5",
   "metadata": {},
   "outputs": [
    {
     "data": {
      "text/plain": [
       "((269, 299, 299, 3), (30, 299, 299, 3), (75, 299, 299, 3))"
      ]
     },
     "execution_count": 8,
     "metadata": {},
     "output_type": "execute_result"
    }
   ],
   "source": [
    "X_train = resize_images(X_train)\n",
    "X_val = resize_images(X_val)\n",
    "X_test = resize_images(X_test)\n",
    "\n",
    "X_train.shape, X_val.shape, X_test.shape"
   ]
  },
  {
   "cell_type": "code",
   "execution_count": 9,
   "id": "ad692cac-50f8-41e0-b9d4-78b9f1c317f6",
   "metadata": {},
   "outputs": [],
   "source": [
    "X_train = X_train/255.0\n",
    "X_val = X_val/255.0\n",
    "X_test = X_test/255.0"
   ]
  },
  {
   "cell_type": "markdown",
   "id": "608dc6f7-e894-4533-a155-fa491b59a45d",
   "metadata": {},
   "source": [
    "## Entrenar la CNN"
   ]
  },
  {
   "cell_type": "markdown",
   "id": "a9010a84-56fa-4f76-85cc-f36bee059eaf",
   "metadata": {},
   "source": [
    "### InceptionV3"
   ]
  },
  {
   "cell_type": "code",
   "execution_count": 10,
   "id": "9a5af42b-0462-4cd5-934d-0822304d43dc",
   "metadata": {},
   "outputs": [
    {
     "name": "stdout",
     "output_type": "stream",
     "text": [
      "Model: \"model\"\n",
      "_________________________________________________________________\n",
      " Layer (type)                Output Shape              Param #   \n",
      "=================================================================\n",
      " input_2 (InputLayer)        [(None, 299, 299, 3)]     0         \n",
      "                                                                 \n",
      " inception_v3 (Functional)   (None, None, None, 2048)  21802784  \n",
      "                                                                 \n",
      " global_average_pooling2d (G  (None, 2048)             0         \n",
      " lobalAveragePooling2D)                                          \n",
      "                                                                 \n",
      " dense (Dense)               (None, 3)                 6147      \n",
      "                                                                 \n",
      "=================================================================\n",
      "Total params: 21,808,931\n",
      "Trainable params: 6,147\n",
      "Non-trainable params: 21,802,784\n",
      "_________________________________________________________________\n"
     ]
    }
   ],
   "source": [
    "base_model = InceptionV3(include_top = False)\n",
    "base_model.trainable = False\n",
    "inputs = Input(shape=(299, 299, 3))\n",
    "x = base_model(inputs)\n",
    "x = GlobalAveragePooling2D()(x)\n",
    "outputs = Dense(3, activation = 'softmax')(x)\n",
    "model = Model(inputs, outputs)\n",
    "model.summary()"
   ]
  },
  {
   "cell_type": "code",
   "execution_count": null,
   "id": "820e1edd-8054-4107-98fb-1868d54043cc",
   "metadata": {},
   "outputs": [],
   "source": [
    "'''\n",
    "tf.keras.utils.plot_model(\n",
    "    base_model,\n",
    "    to_file = 'InceptionV3.png',\n",
    "    show_shapes = True,\n",
    "    show_dtype = False,\n",
    "    show_layer_names = False,\n",
    "    show_layer_activations = True,\n",
    "    dpi = 100\n",
    ")"
   ]
  },
  {
   "cell_type": "code",
   "execution_count": 11,
   "id": "bd9d9656-10e7-465d-8736-e36961c35efb",
   "metadata": {},
   "outputs": [],
   "source": [
    "model.compile(loss = 'sparse_categorical_crossentropy',\n",
    "              optimizer = Adam(learning_rate = 0.001),\n",
    "              metrics = ['accuracy'])"
   ]
  },
  {
   "cell_type": "code",
   "execution_count": 12,
   "id": "b1c82ae7-4904-4ab1-bbbe-151c7ffe0082",
   "metadata": {},
   "outputs": [],
   "source": [
    "EPOCHS = 30\n",
    "callbacks = [ReduceLROnPlateau(monitor = 'val_accuracy', patience = 4, factor = 0.1, verbose = 1, min_lr = 1e-6),\n",
    "             EarlyStopping(monitor = 'val_accuracy', patience = 5, verbose = 1)]"
   ]
  },
  {
   "cell_type": "code",
   "execution_count": 13,
   "id": "623aa9ec-228d-43eb-a15e-382595132d24",
   "metadata": {},
   "outputs": [
    {
     "name": "stdout",
     "output_type": "stream",
     "text": [
      "Epoch 1/30\n",
      "9/9 [==============================] - 11s 377ms/step - loss: 1.1850 - accuracy: 0.4201 - val_loss: 1.1533 - val_accuracy: 0.3333\n",
      "Epoch 2/30\n",
      "9/9 [==============================] - 2s 182ms/step - loss: 1.0673 - accuracy: 0.4201 - val_loss: 1.1550 - val_accuracy: 0.3667\n",
      "Epoch 3/30\n",
      "9/9 [==============================] - 2s 181ms/step - loss: 0.9352 - accuracy: 0.5390 - val_loss: 1.0830 - val_accuracy: 0.4333\n",
      "Epoch 4/30\n",
      "9/9 [==============================] - 2s 181ms/step - loss: 0.8700 - accuracy: 0.6022 - val_loss: 1.0623 - val_accuracy: 0.4667\n",
      "Epoch 5/30\n",
      "9/9 [==============================] - 2s 183ms/step - loss: 0.8308 - accuracy: 0.6468 - val_loss: 1.0449 - val_accuracy: 0.4667\n",
      "Epoch 6/30\n",
      "9/9 [==============================] - 2s 181ms/step - loss: 0.7585 - accuracy: 0.7026 - val_loss: 1.0020 - val_accuracy: 0.5000\n",
      "Epoch 7/30\n",
      "9/9 [==============================] - 2s 181ms/step - loss: 0.7239 - accuracy: 0.7175 - val_loss: 0.9619 - val_accuracy: 0.5333\n",
      "Epoch 8/30\n",
      "9/9 [==============================] - 2s 181ms/step - loss: 0.7056 - accuracy: 0.7323 - val_loss: 0.9607 - val_accuracy: 0.5333\n",
      "Epoch 9/30\n",
      "9/9 [==============================] - 2s 183ms/step - loss: 0.6746 - accuracy: 0.7398 - val_loss: 0.9323 - val_accuracy: 0.5667\n",
      "Epoch 10/30\n",
      "9/9 [==============================] - 2s 182ms/step - loss: 0.6393 - accuracy: 0.7881 - val_loss: 0.9409 - val_accuracy: 0.5333\n",
      "Epoch 11/30\n",
      "9/9 [==============================] - 2s 182ms/step - loss: 0.6338 - accuracy: 0.7918 - val_loss: 0.9378 - val_accuracy: 0.5333\n",
      "Epoch 12/30\n",
      "9/9 [==============================] - 2s 182ms/step - loss: 0.6241 - accuracy: 0.7732 - val_loss: 0.9132 - val_accuracy: 0.5667\n",
      "Epoch 13/30\n",
      "9/9 [==============================] - 2s 182ms/step - loss: 0.5879 - accuracy: 0.7955 - val_loss: 0.8974 - val_accuracy: 0.6000\n",
      "Epoch 14/30\n",
      "9/9 [==============================] - 2s 184ms/step - loss: 0.5668 - accuracy: 0.8141 - val_loss: 0.8845 - val_accuracy: 0.6333\n",
      "Epoch 15/30\n",
      "9/9 [==============================] - 2s 183ms/step - loss: 0.5533 - accuracy: 0.8290 - val_loss: 0.8734 - val_accuracy: 0.5667\n",
      "Epoch 16/30\n",
      "9/9 [==============================] - 2s 183ms/step - loss: 0.5362 - accuracy: 0.8178 - val_loss: 0.8580 - val_accuracy: 0.6333\n",
      "Epoch 17/30\n",
      "9/9 [==============================] - 2s 183ms/step - loss: 0.5170 - accuracy: 0.8662 - val_loss: 0.8444 - val_accuracy: 0.6333\n",
      "Epoch 18/30\n",
      "9/9 [==============================] - 2s 184ms/step - loss: 0.4996 - accuracy: 0.8550 - val_loss: 0.8482 - val_accuracy: 0.6333\n",
      "Epoch 19/30\n",
      "9/9 [==============================] - 2s 183ms/step - loss: 0.4931 - accuracy: 0.8587 - val_loss: 0.8356 - val_accuracy: 0.6000\n",
      "Epoch 20/30\n",
      "9/9 [==============================] - 2s 183ms/step - loss: 0.4830 - accuracy: 0.8625 - val_loss: 0.8264 - val_accuracy: 0.6000\n",
      "Epoch 21/30\n",
      "9/9 [==============================] - 2s 183ms/step - loss: 0.4692 - accuracy: 0.8625 - val_loss: 0.8241 - val_accuracy: 0.6000\n",
      "Epoch 22/30\n",
      "9/9 [==============================] - 2s 183ms/step - loss: 0.4688 - accuracy: 0.8736 - val_loss: 0.8152 - val_accuracy: 0.6000\n",
      "Epoch 23/30\n",
      "9/9 [==============================] - 2s 183ms/step - loss: 0.4419 - accuracy: 0.8810 - val_loss: 0.8093 - val_accuracy: 0.6333\n",
      "Epoch 24/30\n",
      "9/9 [==============================] - 2s 183ms/step - loss: 0.4308 - accuracy: 0.8885 - val_loss: 0.8113 - val_accuracy: 0.6000\n",
      "Epoch 25/30\n",
      "9/9 [==============================] - 2s 184ms/step - loss: 0.4334 - accuracy: 0.8810 - val_loss: 0.8195 - val_accuracy: 0.6000\n",
      "Epoch 26/30\n",
      "9/9 [==============================] - 2s 183ms/step - loss: 0.4174 - accuracy: 0.8922 - val_loss: 0.8108 - val_accuracy: 0.6333\n",
      "Epoch 27/30\n",
      "9/9 [==============================] - 2s 183ms/step - loss: 0.4011 - accuracy: 0.8885 - val_loss: 0.8002 - val_accuracy: 0.6333\n",
      "Epoch 28/30\n",
      "9/9 [==============================] - 2s 183ms/step - loss: 0.3909 - accuracy: 0.8922 - val_loss: 0.7913 - val_accuracy: 0.6000\n",
      "Epoch 29/30\n",
      "9/9 [==============================] - 2s 182ms/step - loss: 0.3833 - accuracy: 0.9033 - val_loss: 0.7881 - val_accuracy: 0.6667\n",
      "Epoch 30/30\n",
      "9/9 [==============================] - 2s 182ms/step - loss: 0.3743 - accuracy: 0.9108 - val_loss: 0.7888 - val_accuracy: 0.6333\n"
     ]
    }
   ],
   "source": [
    "history = model.fit(X_train, y_train, epochs = EPOCHS, validation_data = (X_val, y_val))"
   ]
  },
  {
   "cell_type": "code",
   "execution_count": 15,
   "id": "9f0fc81f-52a7-464d-9da9-6d76f16b4d7b",
   "metadata": {},
   "outputs": [
    {
     "data": {
      "image/png": "[encoded data removed]",
      "text/plain": [
       "<Figure size 1200x500 with 2 Axes>"
      ]
     },
     "metadata": {},
     "output_type": "display_data"
    }
   ],
   "source": [
    "plt.figure(figsize=(12, 5))\n",
    "\n",
    "plt.subplot(1, 2, 1)\n",
    "plt.plot(history.history['accuracy'], label='Train Accuracy')\n",
    "plt.plot(history.history['val_accuracy'], label='Validation Accuracy')\n",
    "plt.title('Model Accuracy Over Epochs')\n",
    "plt.xlabel('Epoch')\n",
    "plt.ylabel('Accuracy')\n",
    "plt.legend()\n",
    "plt.grid(True)\n",
    "\n",
    "plt.subplot(1, 2, 2)\n",
    "plt.plot(history.history['loss'], label='Train Loss')\n",
    "plt.plot(history.history['val_loss'], label='Validation Loss')\n",
    "plt.title('Model Loss Over Epochs')\n",
    "plt.xlabel('Epoch')\n",
    "plt.ylabel('Loss')\n",
    "plt.legend()\n",
    "plt.grid(True)\n",
    "\n",
    "plt.tight_layout()\n",
    "plt.show()"
   ]
  },
  {
   "cell_type": "code",
   "execution_count": null,
   "id": "b83e89e8-70b9-4d2a-ba21-631eec28b959",
   "metadata": {},
   "outputs": [],
   "source": []
  }
 ],
 "metadata": {
  "kernelspec": {
   "display_name": "Python 3 (ipykernel)",
   "language": "python",
   "name": "python3"
  },
  "language_info": {
   "codemirror_mode": {
    "name": "ipython",
    "version": 3
   },
   "file_extension": ".py",
   "mimetype": "text/x-python",
   "name": "python",
   "nbconvert_exporter": "python",
   "pygments_lexer": "ipython3",
   "version": "3.10.16"
  }
 },
 "nbformat": 4,
 "nbformat_minor": 5
}
